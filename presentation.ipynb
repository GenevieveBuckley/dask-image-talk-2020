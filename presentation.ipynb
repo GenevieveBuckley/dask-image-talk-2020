{
 "cells": [
  {
   "cell_type": "markdown",
   "metadata": {
    "slideshow": {
     "slide_type": "slide"
    }
   },
   "source": [
    "\n",
    "<center>\n",
    "\n",
    "# dask-image: distributed image processing for large data\n",
    "\n",
    "## Presenter: Genevieve Buckley\n",
    "<img src=\"imgs/dask-icon.svg#thumbnail\" alt=\"dask logo\" width=\"100\"/></center>\n",
    "<!-- <img src=\"https://marketing.dask.org/en/latest/_images/dask-icon.svg#thumbnail\" alt=\"dask logo\" width=\"100\"/> -->"
   ]
  },
  {
   "cell_type": "markdown",
   "metadata": {
    "slideshow": {
     "slide_type": "slide"
    }
   },
   "source": [
    "# Who needs dask-image?\n",
    "\n",
    "If you're using `numpy` and/or `scipy.ndimage` and are running out of RAM, dask-image is for you.\n",
    "\n",
    "## Two main use cases\n",
    "1. Batch processing\n",
    "2. Large field of view"
   ]
  },
  {
   "cell_type": "markdown",
   "metadata": {
    "slideshow": {
     "slide_type": "slide"
    }
   },
   "source": [
    "# Motivating examples\n"
   ]
  },
  {
   "cell_type": "markdown",
   "metadata": {
    "slideshow": {
     "slide_type": "slide"
    }
   },
   "source": [
    "# Getting started\n",
    "https://github.com/dask/dask-image/\n",
    "\n",
    "## conda\n",
    "```\n",
    "conda install -c conda-forge dask-image\n",
    "```\n",
    "\n",
    "## pip\n",
    "\n",
    "```\n",
    "pip install dask-image\n",
    "```\n"
   ]
  },
  {
   "cell_type": "markdown",
   "metadata": {
    "slideshow": {
     "slide_type": "slide"
    }
   },
   "source": [
    "# What's included?\n",
    "\n",
    "* imread\n",
    "* ndfilters\n",
    "* ndfourier\n",
    "* ndmeasure\n",
    "* ndmorph\n",
    "\n"
   ]
  },
  {
   "cell_type": "markdown",
   "metadata": {
    "slideshow": {
     "slide_type": "slide"
    }
   },
   "source": [
    "# Function coverage\n",
    "\n",
    "<img src=\"imgs/function-coverage-table.png#thumbnail\" alt=\"Table of function coverage: scipy.ndimage compared to dask-image http://image.dask.org/en/latest/coverage.html\" width=\"900\"/>\n"
   ]
  },
  {
   "cell_type": "markdown",
   "metadata": {
    "slideshow": {
     "slide_type": "slide"
    }
   },
   "source": [
    "# Familiar API"
   ]
  },
  {
   "cell_type": "markdown",
   "metadata": {
    "slideshow": {
     "slide_type": "slide"
    }
   },
   "source": [
    "# Let's build a pipeline!\n",
    "\n",
    "1. Reading in data\n",
    "2. Filtering images\n",
    "3. Segmenting objects\n",
    "4. Morphological operations\n",
    "5. Measuring objects"
   ]
  },
  {
   "cell_type": "markdown",
   "metadata": {
    "slideshow": {
     "slide_type": "slide"
    }
   },
   "source": [
    "# 1. Reading in data\n",
    "\n",
    "```python\n",
    "from dask_image.imread import imread\n",
    "\n",
    "images = imread(\"path/to/files/*.tif\")\n",
    "```"
   ]
  },
  {
   "cell_type": "markdown",
   "metadata": {
    "slideshow": {
     "slide_type": "slide"
    }
   },
   "source": [
    "## Alternate: read data from zarr (or n5, or hdf5)\n",
    "\n"
   ]
  },
  {
   "cell_type": "markdown",
   "metadata": {
    "slideshow": {
     "slide_type": "subslide"
    }
   },
   "source": [
    "Image display"
   ]
  },
  {
   "cell_type": "markdown",
   "metadata": {
    "slideshow": {
     "slide_type": "slide"
    }
   },
   "source": [
    "# 2. Filtering images"
   ]
  },
  {
   "cell_type": "markdown",
   "metadata": {
    "slideshow": {
     "slide_type": "slide"
    }
   },
   "source": [
    "# 3. Segmenting objects"
   ]
  },
  {
   "cell_type": "markdown",
   "metadata": {
    "slideshow": {
     "slide_type": "slide"
    }
   },
   "source": [
    "# 4. Morphological operations\n"
   ]
  },
  {
   "cell_type": "markdown",
   "metadata": {
    "slideshow": {
     "slide_type": "slide"
    }
   },
   "source": [
    "# 5. Measuring objects"
   ]
  },
  {
   "cell_type": "code",
   "execution_count": null,
   "metadata": {},
   "outputs": [],
   "source": [
    "# Pipeline\n",
    "\n",
    "```python\n",
    "\n",
    "```"
   ]
  },
  {
   "cell_type": "markdown",
   "metadata": {
    "hideOutput": true
   },
   "source": [
    "# Custom functionality\n",
    "\n",
    "What if you want to do something that isn't included?\n",
    "\n",
    "* scikit-image [apply_parallel()](https://scikit-image.org/docs/dev/api/skimage.util.html#skimage.util.apply_parallel)\n",
    "* dask [map_overlap](https://docs.dask.org/en/latest/array-overlap.html?highlight=map_overlap#dask.array.map_overlap) / [map_blocks](https://docs.dask.org/en/latest/array-api.html?highlight=map_blocks#dask.array.map_blocks)\n",
    "* dask [delayed](https://docs.dask.org/en/latest/delayed.html) "
   ]
  },
  {
   "cell_type": "markdown",
   "metadata": {
    "slideshow": {
     "slide_type": "slide"
    }
   },
   "source": [
    "# GPU support\n",
    "\n",
    "Latest release includes GPU support for the modules:\n",
    "* ndfilters\n",
    "* ndmorph\n",
    "* imread\n",
    "\n",
    "Still to do:\n",
    "\n",
    "* ndfourier\n",
    "* ndmeasure"
   ]
  },
  {
   "cell_type": "markdown",
   "metadata": {
    "slideshow": {
     "slide_type": "subslide"
    }
   },
   "source": [
    "```python\n",
    "# CPU example\n",
    "import numpy as np\n",
    "import dask.array as da\n",
    "from dask_image.ndfilters import convolve\n",
    "\n",
    "s = (10, 10)\n",
    "a = da.from_array(np.arange(int(np.prod(s))).reshape(s), chunks=5)\n",
    "w = np.ones(a.ndim * (3,), dtype=np.float32)\n",
    "result = convolve(a, w)\n",
    "result.compute()\n",
    "```"
   ]
  },
  {
   "cell_type": "markdown",
   "metadata": {
    "slideshow": {
     "slide_type": "subslide"
    }
   },
   "source": [
    "```python\n",
    "# Same example moved to the GPU\n",
    "import cupy  # <- import cupy instead of numpy\n",
    "import dask.array as da\n",
    "from dask_image.ndfilters import convolve\n",
    "\n",
    "s = (10, 10)\n",
    "a = da.from_array(cupy.arange(int(cupy.prod(cupy.array(s)))).reshape(s), chunks=5)  # <- cupy dask array\n",
    "w = cupy.ones(a.ndim * (3,))  # <- cupy dask array\n",
    "result = convolve(a, w)\n",
    "result.compute()\n",
    "```"
   ]
  },
  {
   "cell_type": "markdown",
   "metadata": {
    "slideshow": {
     "slide_type": "slide"
    }
   },
   "source": [
    "# GPU benchmarking\n",
    "\n",
    "| Architecture    | Time      |\n",
    "|-----------------|-----------|\n",
    "| Single CPU Core | 2hr 39min |\n",
    "| Forty CPU Cores | 11min 30s |\n",
    "| One GPU         | 1min 37s  |\n",
    "| Eight GPUs      | 19s       |\n",
    "\n",
    "http://matthewrocklin.com/blog/work/2019/01/03/dask-array-gpus-first-steps\n"
   ]
  },
  {
   "cell_type": "markdown",
   "metadata": {
    "slideshow": {
     "slide_type": "slide"
    }
   },
   "source": [
    "# dask-image\n",
    "\n",
    "* Install: `conda` or `pip install dask-image`\n",
    "* Documentation: https://dask-image.readthedocs.io\n",
    "* GitHub: https://github.com/dask/dask-image/"
   ]
  },
  {
   "cell_type": "markdown",
   "metadata": {
    "slideshow": {
     "slide_type": "slide"
    }
   },
   "source": [
    " <img src=\"imgs/dask-icon.svg#thumbnail\" alt=\"dask logo\" width=\"100\"/></center>"
   ]
  },
  {
   "cell_type": "code",
   "execution_count": null,
   "metadata": {},
   "outputs": [],
   "source": []
  }
 ],
 "metadata": {
  "celltoolbar": "Slideshow",
  "kernelspec": {
   "display_name": "Python 3",
   "language": "python",
   "name": "python3"
  },
  "language_info": {
   "codemirror_mode": {
    "name": "ipython",
    "version": 3
   },
   "file_extension": ".py",
   "mimetype": "text/x-python",
   "name": "python",
   "nbconvert_exporter": "python",
   "pygments_lexer": "ipython3",
   "version": "3.7.7"
  }
 },
 "nbformat": 4,
 "nbformat_minor": 4
}
