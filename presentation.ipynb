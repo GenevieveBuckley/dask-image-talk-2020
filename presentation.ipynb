{
 "cells": [
  {
   "cell_type": "markdown",
   "metadata": {
    "slideshow": {
     "slide_type": "slide"
    }
   },
   "source": [
    "<center>\n",
    "\n",
    "# dask-image: distributed image processing for large data\n",
    "\n",
    "## Presenter: Genevieve Buckley\n",
    "\n",
    "<img src=\"imgs/dask-icon.svg#thumbnail\" alt=\"dask logo\" width=\"100\"/>\n",
    "</center>\n"
   ]
  },
  {
   "cell_type": "markdown",
   "metadata": {
    "slideshow": {
     "slide_type": "slide"
    }
   },
   "source": [
    "# Who needs dask-image?\n",
    "\n",
    "If you're using `numpy` and/or `scipy.ndimage` and are running out of RAM, dask-image is for you.\n",
    "\n",
    "## Two main use cases\n",
    "1. Batch processing\n",
    "2. Large field of view"
   ]
  },
  {
   "cell_type": "markdown",
   "metadata": {
    "slideshow": {
     "slide_type": "slide"
    }
   },
   "source": [
    "# Motivating examples\n",
    "\n",
    "* Sentinel satellite data\n",
    "* Individual neurons within the brain\n",
    "\n",
    "<img src=\"imgs/motivating-examples.png#thumbnail\" alt=\"Satellite data and brain neurons\" width=\"1000\"/>\n"
   ]
  },
  {
   "cell_type": "markdown",
   "metadata": {
    "slideshow": {
     "slide_type": "slide"
    }
   },
   "source": [
    "# Getting started\n",
    "https://github.com/dask/dask-image/\n",
    "\n",
    "## conda\n",
    "```\n",
    "conda install -c conda-forge dask-image\n",
    "```\n",
    "\n",
    "## pip\n",
    "\n",
    "```\n",
    "pip install dask-image\n",
    "```\n"
   ]
  },
  {
   "cell_type": "markdown",
   "metadata": {
    "slideshow": {
     "slide_type": "slide"
    }
   },
   "source": [
    "# What's included?\n",
    "\n",
    "* imread\n",
    "* ndfilters\n",
    "* ndfourier\n",
    "* ndmorph\n",
    "* ndmeasure\n",
    "\n"
   ]
  },
  {
   "cell_type": "markdown",
   "metadata": {
    "slideshow": {
     "slide_type": "slide"
    }
   },
   "source": [
    "# Function coverage\n",
    "\n",
    "<img src=\"imgs/function-coverage-table.png#thumbnail\" alt=\"Table of function coverage: scipy.ndimage compared to dask-image http://image.dask.org/en/latest/coverage.html\" width=\"900\"/>\n"
   ]
  },
  {
   "cell_type": "markdown",
   "metadata": {
    "slideshow": {
     "slide_type": "slide"
    }
   },
   "source": [
    "# GPU support\n",
    "\n",
    "Latest release includes GPU support for the modules:\n",
    "* ndfilters\n",
    "* imread\n",
    "\n",
    "Still to do: ndfourier, ndmeasure, ndmorph*\n",
    "\n",
    "*Done, pending cupy PR #3907"
   ]
  },
  {
   "cell_type": "markdown",
   "metadata": {
    "slideshow": {
     "slide_type": "slide"
    }
   },
   "source": [
    "# GPU benchmarking\n",
    "\n",
    "| Architecture    | Time      |\n",
    "|-----------------|-----------|\n",
    "| Single CPU Core | 2hr 39min |\n",
    "| Forty CPU Cores | 11min 30s |\n",
    "| One GPU         | 1min 37s  |\n",
    "| Eight GPUs      | 19s       |\n",
    "\n",
    "https://blog.dask.org/2019/01/03/dask-array-gpus-first-steps\n"
   ]
  },
  {
   "cell_type": "markdown",
   "metadata": {
    "slideshow": {
     "slide_type": "slide"
    }
   },
   "source": [
    "# Let's build a pipeline!\n",
    "\n",
    "1. Reading in data\n",
    "2. Filtering images\n",
    "3. Segmenting objects\n",
    "4. Morphological operations\n",
    "5. Measuring objects"
   ]
  },
  {
   "cell_type": "code",
   "execution_count": 1,
   "metadata": {
    "slideshow": {
     "slide_type": "fragment"
    }
   },
   "outputs": [],
   "source": [
    "%gui qt"
   ]
  },
  {
   "cell_type": "markdown",
   "metadata": {
    "slideshow": {
     "slide_type": "slide"
    }
   },
   "source": [
    "We used image set [BBBC039v1](https://bbbc.broadinstitute.org/bbbc/BBBC039) Caicedo et al. 2018, available from the Broad Bioimage Benchmark Collection [Ljosa et al., Nature Methods, 2012](http://dx.doi.org/10.1038/nmeth.2083). \n",
    "\n",
    "https://bbbc.broadinstitute.org/BBBC039\n",
    "\n",
    "<img src=\"imgs/BBBC039-example-image.png#thumbnail\" alt=\"BBBC039 image of flourescent nuclei\" width=\"700\"/>\n"
   ]
  },
  {
   "cell_type": "markdown",
   "metadata": {
    "slideshow": {
     "slide_type": "slide"
    }
   },
   "source": [
    "# 1. Reading in data\n"
   ]
  },
  {
   "cell_type": "code",
   "execution_count": 2,
   "metadata": {
    "slideshow": {
     "slide_type": "fragment"
    }
   },
   "outputs": [
    {
     "data": {
      "text/html": [
       "<table>\n",
       "<tr>\n",
       "<td>\n",
       "<table>\n",
       "  <thead>\n",
       "    <tr><td> </td><th> Array </th><th> Chunk </th></tr>\n",
       "  </thead>\n",
       "  <tbody>\n",
       "    <tr><th> Bytes </th><td> 144.77 MB </td> <td> 723.84 kB </td></tr>\n",
       "    <tr><th> Shape </th><td> (200, 520, 696) </td> <td> (1, 520, 696) </td></tr>\n",
       "    <tr><th> Count </th><td> 600 Tasks </td><td> 200 Chunks </td></tr>\n",
       "    <tr><th> Type </th><td> uint16 </td><td> numpy.ndarray </td></tr>\n",
       "  </tbody>\n",
       "</table>\n",
       "</td>\n",
       "<td>\n",
       "<svg width=\"205\" height=\"165\" style=\"stroke:rgb(0,0,0);stroke-width:1\" >\n",
       "\n",
       "  <!-- Horizontal lines -->\n",
       "  <line x1=\"10\" y1=\"0\" x2=\"35\" y2=\"25\" style=\"stroke-width:2\" />\n",
       "  <line x1=\"10\" y1=\"89\" x2=\"35\" y2=\"115\" style=\"stroke-width:2\" />\n",
       "\n",
       "  <!-- Vertical lines -->\n",
       "  <line x1=\"10\" y1=\"0\" x2=\"10\" y2=\"89\" style=\"stroke-width:2\" />\n",
       "  <line x1=\"10\" y1=\"0\" x2=\"10\" y2=\"89\" />\n",
       "  <line x1=\"10\" y1=\"0\" x2=\"10\" y2=\"89\" />\n",
       "  <line x1=\"10\" y1=\"0\" x2=\"10\" y2=\"90\" />\n",
       "  <line x1=\"10\" y1=\"0\" x2=\"10\" y2=\"90\" />\n",
       "  <line x1=\"10\" y1=\"0\" x2=\"10\" y2=\"90\" />\n",
       "  <line x1=\"10\" y1=\"0\" x2=\"10\" y2=\"90\" />\n",
       "  <line x1=\"10\" y1=\"0\" x2=\"10\" y2=\"90\" />\n",
       "  <line x1=\"11\" y1=\"1\" x2=\"11\" y2=\"90\" />\n",
       "  <line x1=\"11\" y1=\"1\" x2=\"11\" y2=\"90\" />\n",
       "  <line x1=\"11\" y1=\"1\" x2=\"11\" y2=\"90\" />\n",
       "  <line x1=\"11\" y1=\"1\" x2=\"11\" y2=\"91\" />\n",
       "  <line x1=\"11\" y1=\"1\" x2=\"11\" y2=\"91\" />\n",
       "  <line x1=\"11\" y1=\"1\" x2=\"11\" y2=\"91\" />\n",
       "  <line x1=\"11\" y1=\"1\" x2=\"11\" y2=\"91\" />\n",
       "  <line x1=\"11\" y1=\"1\" x2=\"11\" y2=\"91\" />\n",
       "  <line x1=\"12\" y1=\"2\" x2=\"12\" y2=\"91\" />\n",
       "  <line x1=\"12\" y1=\"2\" x2=\"12\" y2=\"91\" />\n",
       "  <line x1=\"12\" y1=\"2\" x2=\"12\" y2=\"91\" />\n",
       "  <line x1=\"12\" y1=\"2\" x2=\"12\" y2=\"92\" />\n",
       "  <line x1=\"12\" y1=\"2\" x2=\"12\" y2=\"92\" />\n",
       "  <line x1=\"12\" y1=\"2\" x2=\"12\" y2=\"92\" />\n",
       "  <line x1=\"12\" y1=\"2\" x2=\"12\" y2=\"92\" />\n",
       "  <line x1=\"12\" y1=\"2\" x2=\"12\" y2=\"92\" />\n",
       "  <line x1=\"13\" y1=\"3\" x2=\"13\" y2=\"92\" />\n",
       "  <line x1=\"13\" y1=\"3\" x2=\"13\" y2=\"92\" />\n",
       "  <line x1=\"13\" y1=\"3\" x2=\"13\" y2=\"92\" />\n",
       "  <line x1=\"13\" y1=\"3\" x2=\"13\" y2=\"93\" />\n",
       "  <line x1=\"13\" y1=\"3\" x2=\"13\" y2=\"93\" />\n",
       "  <line x1=\"13\" y1=\"3\" x2=\"13\" y2=\"93\" />\n",
       "  <line x1=\"13\" y1=\"3\" x2=\"13\" y2=\"93\" />\n",
       "  <line x1=\"13\" y1=\"3\" x2=\"13\" y2=\"93\" />\n",
       "  <line x1=\"14\" y1=\"4\" x2=\"14\" y2=\"93\" />\n",
       "  <line x1=\"14\" y1=\"4\" x2=\"14\" y2=\"93\" />\n",
       "  <line x1=\"14\" y1=\"4\" x2=\"14\" y2=\"93\" />\n",
       "  <line x1=\"14\" y1=\"4\" x2=\"14\" y2=\"94\" />\n",
       "  <line x1=\"14\" y1=\"4\" x2=\"14\" y2=\"94\" />\n",
       "  <line x1=\"14\" y1=\"4\" x2=\"14\" y2=\"94\" />\n",
       "  <line x1=\"14\" y1=\"4\" x2=\"14\" y2=\"94\" />\n",
       "  <line x1=\"14\" y1=\"4\" x2=\"14\" y2=\"94\" />\n",
       "  <line x1=\"15\" y1=\"5\" x2=\"15\" y2=\"94\" />\n",
       "  <line x1=\"15\" y1=\"5\" x2=\"15\" y2=\"94\" />\n",
       "  <line x1=\"15\" y1=\"5\" x2=\"15\" y2=\"95\" />\n",
       "  <line x1=\"15\" y1=\"5\" x2=\"15\" y2=\"95\" />\n",
       "  <line x1=\"15\" y1=\"5\" x2=\"15\" y2=\"95\" />\n",
       "  <line x1=\"15\" y1=\"5\" x2=\"15\" y2=\"95\" />\n",
       "  <line x1=\"15\" y1=\"5\" x2=\"15\" y2=\"95\" />\n",
       "  <line x1=\"15\" y1=\"5\" x2=\"15\" y2=\"95\" />\n",
       "  <line x1=\"16\" y1=\"6\" x2=\"16\" y2=\"95\" />\n",
       "  <line x1=\"16\" y1=\"6\" x2=\"16\" y2=\"95\" />\n",
       "  <line x1=\"16\" y1=\"6\" x2=\"16\" y2=\"96\" />\n",
       "  <line x1=\"16\" y1=\"6\" x2=\"16\" y2=\"96\" />\n",
       "  <line x1=\"16\" y1=\"6\" x2=\"16\" y2=\"96\" />\n",
       "  <line x1=\"16\" y1=\"6\" x2=\"16\" y2=\"96\" />\n",
       "  <line x1=\"16\" y1=\"6\" x2=\"16\" y2=\"96\" />\n",
       "  <line x1=\"17\" y1=\"7\" x2=\"17\" y2=\"96\" />\n",
       "  <line x1=\"17\" y1=\"7\" x2=\"17\" y2=\"96\" />\n",
       "  <line x1=\"17\" y1=\"7\" x2=\"17\" y2=\"96\" />\n",
       "  <line x1=\"17\" y1=\"7\" x2=\"17\" y2=\"97\" />\n",
       "  <line x1=\"17\" y1=\"7\" x2=\"17\" y2=\"97\" />\n",
       "  <line x1=\"17\" y1=\"7\" x2=\"17\" y2=\"97\" />\n",
       "  <line x1=\"17\" y1=\"7\" x2=\"17\" y2=\"97\" />\n",
       "  <line x1=\"17\" y1=\"7\" x2=\"17\" y2=\"97\" />\n",
       "  <line x1=\"18\" y1=\"8\" x2=\"18\" y2=\"97\" />\n",
       "  <line x1=\"18\" y1=\"8\" x2=\"18\" y2=\"97\" />\n",
       "  <line x1=\"18\" y1=\"8\" x2=\"18\" y2=\"97\" />\n",
       "  <line x1=\"18\" y1=\"8\" x2=\"18\" y2=\"98\" />\n",
       "  <line x1=\"18\" y1=\"8\" x2=\"18\" y2=\"98\" />\n",
       "  <line x1=\"18\" y1=\"8\" x2=\"18\" y2=\"98\" />\n",
       "  <line x1=\"18\" y1=\"8\" x2=\"18\" y2=\"98\" />\n",
       "  <line x1=\"18\" y1=\"8\" x2=\"18\" y2=\"98\" />\n",
       "  <line x1=\"19\" y1=\"9\" x2=\"19\" y2=\"98\" />\n",
       "  <line x1=\"19\" y1=\"9\" x2=\"19\" y2=\"98\" />\n",
       "  <line x1=\"19\" y1=\"9\" x2=\"19\" y2=\"98\" />\n",
       "  <line x1=\"19\" y1=\"9\" x2=\"19\" y2=\"99\" />\n",
       "  <line x1=\"19\" y1=\"9\" x2=\"19\" y2=\"99\" />\n",
       "  <line x1=\"19\" y1=\"9\" x2=\"19\" y2=\"99\" />\n",
       "  <line x1=\"19\" y1=\"9\" x2=\"19\" y2=\"99\" />\n",
       "  <line x1=\"19\" y1=\"9\" x2=\"19\" y2=\"99\" />\n",
       "  <line x1=\"20\" y1=\"10\" x2=\"20\" y2=\"99\" />\n",
       "  <line x1=\"20\" y1=\"10\" x2=\"20\" y2=\"99\" />\n",
       "  <line x1=\"20\" y1=\"10\" x2=\"20\" y2=\"99\" />\n",
       "  <line x1=\"20\" y1=\"10\" x2=\"20\" y2=\"100\" />\n",
       "  <line x1=\"20\" y1=\"10\" x2=\"20\" y2=\"100\" />\n",
       "  <line x1=\"20\" y1=\"10\" x2=\"20\" y2=\"100\" />\n",
       "  <line x1=\"20\" y1=\"10\" x2=\"20\" y2=\"100\" />\n",
       "  <line x1=\"20\" y1=\"10\" x2=\"20\" y2=\"100\" />\n",
       "  <line x1=\"21\" y1=\"11\" x2=\"21\" y2=\"100\" />\n",
       "  <line x1=\"21\" y1=\"11\" x2=\"21\" y2=\"100\" />\n",
       "  <line x1=\"21\" y1=\"11\" x2=\"21\" y2=\"101\" />\n",
       "  <line x1=\"21\" y1=\"11\" x2=\"21\" y2=\"101\" />\n",
       "  <line x1=\"21\" y1=\"11\" x2=\"21\" y2=\"101\" />\n",
       "  <line x1=\"21\" y1=\"11\" x2=\"21\" y2=\"101\" />\n",
       "  <line x1=\"21\" y1=\"11\" x2=\"21\" y2=\"101\" />\n",
       "  <line x1=\"21\" y1=\"11\" x2=\"21\" y2=\"101\" />\n",
       "  <line x1=\"22\" y1=\"12\" x2=\"22\" y2=\"101\" />\n",
       "  <line x1=\"22\" y1=\"12\" x2=\"22\" y2=\"101\" />\n",
       "  <line x1=\"22\" y1=\"12\" x2=\"22\" y2=\"102\" />\n",
       "  <line x1=\"22\" y1=\"12\" x2=\"22\" y2=\"102\" />\n",
       "  <line x1=\"22\" y1=\"12\" x2=\"22\" y2=\"102\" />\n",
       "  <line x1=\"22\" y1=\"12\" x2=\"22\" y2=\"102\" />\n",
       "  <line x1=\"22\" y1=\"12\" x2=\"22\" y2=\"102\" />\n",
       "  <line x1=\"23\" y1=\"13\" x2=\"23\" y2=\"102\" />\n",
       "  <line x1=\"23\" y1=\"13\" x2=\"23\" y2=\"102\" />\n",
       "  <line x1=\"23\" y1=\"13\" x2=\"23\" y2=\"102\" />\n",
       "  <line x1=\"23\" y1=\"13\" x2=\"23\" y2=\"103\" />\n",
       "  <line x1=\"23\" y1=\"13\" x2=\"23\" y2=\"103\" />\n",
       "  <line x1=\"23\" y1=\"13\" x2=\"23\" y2=\"103\" />\n",
       "  <line x1=\"23\" y1=\"13\" x2=\"23\" y2=\"103\" />\n",
       "  <line x1=\"23\" y1=\"13\" x2=\"23\" y2=\"103\" />\n",
       "  <line x1=\"24\" y1=\"14\" x2=\"24\" y2=\"103\" />\n",
       "  <line x1=\"24\" y1=\"14\" x2=\"24\" y2=\"103\" />\n",
       "  <line x1=\"24\" y1=\"14\" x2=\"24\" y2=\"103\" />\n",
       "  <line x1=\"24\" y1=\"14\" x2=\"24\" y2=\"104\" />\n",
       "  <line x1=\"24\" y1=\"14\" x2=\"24\" y2=\"104\" />\n",
       "  <line x1=\"24\" y1=\"14\" x2=\"24\" y2=\"104\" />\n",
       "  <line x1=\"24\" y1=\"14\" x2=\"24\" y2=\"104\" />\n",
       "  <line x1=\"24\" y1=\"14\" x2=\"24\" y2=\"104\" />\n",
       "  <line x1=\"25\" y1=\"15\" x2=\"25\" y2=\"104\" />\n",
       "  <line x1=\"25\" y1=\"15\" x2=\"25\" y2=\"104\" />\n",
       "  <line x1=\"25\" y1=\"15\" x2=\"25\" y2=\"104\" />\n",
       "  <line x1=\"25\" y1=\"15\" x2=\"25\" y2=\"105\" />\n",
       "  <line x1=\"25\" y1=\"15\" x2=\"25\" y2=\"105\" />\n",
       "  <line x1=\"25\" y1=\"15\" x2=\"25\" y2=\"105\" />\n",
       "  <line x1=\"25\" y1=\"15\" x2=\"25\" y2=\"105\" />\n",
       "  <line x1=\"25\" y1=\"15\" x2=\"25\" y2=\"105\" />\n",
       "  <line x1=\"26\" y1=\"16\" x2=\"26\" y2=\"105\" />\n",
       "  <line x1=\"26\" y1=\"16\" x2=\"26\" y2=\"105\" />\n",
       "  <line x1=\"26\" y1=\"16\" x2=\"26\" y2=\"105\" />\n",
       "  <line x1=\"26\" y1=\"16\" x2=\"26\" y2=\"106\" />\n",
       "  <line x1=\"26\" y1=\"16\" x2=\"26\" y2=\"106\" />\n",
       "  <line x1=\"26\" y1=\"16\" x2=\"26\" y2=\"106\" />\n",
       "  <line x1=\"26\" y1=\"16\" x2=\"26\" y2=\"106\" />\n",
       "  <line x1=\"26\" y1=\"16\" x2=\"26\" y2=\"106\" />\n",
       "  <line x1=\"27\" y1=\"17\" x2=\"27\" y2=\"106\" />\n",
       "  <line x1=\"27\" y1=\"17\" x2=\"27\" y2=\"106\" />\n",
       "  <line x1=\"27\" y1=\"17\" x2=\"27\" y2=\"107\" />\n",
       "  <line x1=\"27\" y1=\"17\" x2=\"27\" y2=\"107\" />\n",
       "  <line x1=\"27\" y1=\"17\" x2=\"27\" y2=\"107\" />\n",
       "  <line x1=\"27\" y1=\"17\" x2=\"27\" y2=\"107\" />\n",
       "  <line x1=\"27\" y1=\"17\" x2=\"27\" y2=\"107\" />\n",
       "  <line x1=\"27\" y1=\"17\" x2=\"27\" y2=\"107\" />\n",
       "  <line x1=\"28\" y1=\"18\" x2=\"28\" y2=\"107\" />\n",
       "  <line x1=\"28\" y1=\"18\" x2=\"28\" y2=\"107\" />\n",
       "  <line x1=\"28\" y1=\"18\" x2=\"28\" y2=\"108\" />\n",
       "  <line x1=\"28\" y1=\"18\" x2=\"28\" y2=\"108\" />\n",
       "  <line x1=\"28\" y1=\"18\" x2=\"28\" y2=\"108\" />\n",
       "  <line x1=\"28\" y1=\"18\" x2=\"28\" y2=\"108\" />\n",
       "  <line x1=\"28\" y1=\"18\" x2=\"28\" y2=\"108\" />\n",
       "  <line x1=\"29\" y1=\"19\" x2=\"29\" y2=\"108\" />\n",
       "  <line x1=\"29\" y1=\"19\" x2=\"29\" y2=\"108\" />\n",
       "  <line x1=\"29\" y1=\"19\" x2=\"29\" y2=\"108\" />\n",
       "  <line x1=\"29\" y1=\"19\" x2=\"29\" y2=\"109\" />\n",
       "  <line x1=\"29\" y1=\"19\" x2=\"29\" y2=\"109\" />\n",
       "  <line x1=\"29\" y1=\"19\" x2=\"29\" y2=\"109\" />\n",
       "  <line x1=\"29\" y1=\"19\" x2=\"29\" y2=\"109\" />\n",
       "  <line x1=\"29\" y1=\"19\" x2=\"29\" y2=\"109\" />\n",
       "  <line x1=\"30\" y1=\"20\" x2=\"30\" y2=\"109\" />\n",
       "  <line x1=\"30\" y1=\"20\" x2=\"30\" y2=\"109\" />\n",
       "  <line x1=\"30\" y1=\"20\" x2=\"30\" y2=\"109\" />\n",
       "  <line x1=\"30\" y1=\"20\" x2=\"30\" y2=\"110\" />\n",
       "  <line x1=\"30\" y1=\"20\" x2=\"30\" y2=\"110\" />\n",
       "  <line x1=\"30\" y1=\"20\" x2=\"30\" y2=\"110\" />\n",
       "  <line x1=\"30\" y1=\"20\" x2=\"30\" y2=\"110\" />\n",
       "  <line x1=\"30\" y1=\"20\" x2=\"30\" y2=\"110\" />\n",
       "  <line x1=\"31\" y1=\"21\" x2=\"31\" y2=\"110\" />\n",
       "  <line x1=\"31\" y1=\"21\" x2=\"31\" y2=\"110\" />\n",
       "  <line x1=\"31\" y1=\"21\" x2=\"31\" y2=\"110\" />\n",
       "  <line x1=\"31\" y1=\"21\" x2=\"31\" y2=\"111\" />\n",
       "  <line x1=\"31\" y1=\"21\" x2=\"31\" y2=\"111\" />\n",
       "  <line x1=\"31\" y1=\"21\" x2=\"31\" y2=\"111\" />\n",
       "  <line x1=\"31\" y1=\"21\" x2=\"31\" y2=\"111\" />\n",
       "  <line x1=\"31\" y1=\"21\" x2=\"31\" y2=\"111\" />\n",
       "  <line x1=\"32\" y1=\"22\" x2=\"32\" y2=\"111\" />\n",
       "  <line x1=\"32\" y1=\"22\" x2=\"32\" y2=\"111\" />\n",
       "  <line x1=\"32\" y1=\"22\" x2=\"32\" y2=\"111\" />\n",
       "  <line x1=\"32\" y1=\"22\" x2=\"32\" y2=\"112\" />\n",
       "  <line x1=\"32\" y1=\"22\" x2=\"32\" y2=\"112\" />\n",
       "  <line x1=\"32\" y1=\"22\" x2=\"32\" y2=\"112\" />\n",
       "  <line x1=\"32\" y1=\"22\" x2=\"32\" y2=\"112\" />\n",
       "  <line x1=\"32\" y1=\"22\" x2=\"32\" y2=\"112\" />\n",
       "  <line x1=\"33\" y1=\"23\" x2=\"33\" y2=\"112\" />\n",
       "  <line x1=\"33\" y1=\"23\" x2=\"33\" y2=\"112\" />\n",
       "  <line x1=\"33\" y1=\"23\" x2=\"33\" y2=\"113\" />\n",
       "  <line x1=\"33\" y1=\"23\" x2=\"33\" y2=\"113\" />\n",
       "  <line x1=\"33\" y1=\"23\" x2=\"33\" y2=\"113\" />\n",
       "  <line x1=\"33\" y1=\"23\" x2=\"33\" y2=\"113\" />\n",
       "  <line x1=\"33\" y1=\"23\" x2=\"33\" y2=\"113\" />\n",
       "  <line x1=\"33\" y1=\"23\" x2=\"33\" y2=\"113\" />\n",
       "  <line x1=\"34\" y1=\"24\" x2=\"34\" y2=\"113\" />\n",
       "  <line x1=\"34\" y1=\"24\" x2=\"34\" y2=\"113\" />\n",
       "  <line x1=\"34\" y1=\"24\" x2=\"34\" y2=\"114\" />\n",
       "  <line x1=\"34\" y1=\"24\" x2=\"34\" y2=\"114\" />\n",
       "  <line x1=\"34\" y1=\"24\" x2=\"34\" y2=\"114\" />\n",
       "  <line x1=\"34\" y1=\"24\" x2=\"34\" y2=\"114\" />\n",
       "  <line x1=\"34\" y1=\"24\" x2=\"34\" y2=\"114\" />\n",
       "  <line x1=\"35\" y1=\"25\" x2=\"35\" y2=\"114\" />\n",
       "  <line x1=\"35\" y1=\"25\" x2=\"35\" y2=\"114\" />\n",
       "  <line x1=\"35\" y1=\"25\" x2=\"35\" y2=\"114\" />\n",
       "  <line x1=\"35\" y1=\"25\" x2=\"35\" y2=\"115\" />\n",
       "  <line x1=\"35\" y1=\"25\" x2=\"35\" y2=\"115\" style=\"stroke-width:2\" />\n",
       "\n",
       "  <!-- Colored Rectangle -->\n",
       "  <polygon points=\"10.000000,0.000000 35.528641,25.528641 35.528641,115.183813 10.000000,89.655172\" style=\"fill:#ECB172A0;stroke-width:0\"/>\n",
       "\n",
       "  <!-- Horizontal lines -->\n",
       "  <line x1=\"10\" y1=\"0\" x2=\"130\" y2=\"0\" style=\"stroke-width:2\" />\n",
       "  <line x1=\"10\" y1=\"0\" x2=\"130\" y2=\"0\" />\n",
       "  <line x1=\"10\" y1=\"0\" x2=\"130\" y2=\"0\" />\n",
       "  <line x1=\"10\" y1=\"0\" x2=\"130\" y2=\"0\" />\n",
       "  <line x1=\"10\" y1=\"0\" x2=\"130\" y2=\"0\" />\n",
       "  <line x1=\"10\" y1=\"0\" x2=\"130\" y2=\"0\" />\n",
       "  <line x1=\"10\" y1=\"0\" x2=\"130\" y2=\"0\" />\n",
       "  <line x1=\"10\" y1=\"0\" x2=\"130\" y2=\"0\" />\n",
       "  <line x1=\"11\" y1=\"1\" x2=\"131\" y2=\"1\" />\n",
       "  <line x1=\"11\" y1=\"1\" x2=\"131\" y2=\"1\" />\n",
       "  <line x1=\"11\" y1=\"1\" x2=\"131\" y2=\"1\" />\n",
       "  <line x1=\"11\" y1=\"1\" x2=\"131\" y2=\"1\" />\n",
       "  <line x1=\"11\" y1=\"1\" x2=\"131\" y2=\"1\" />\n",
       "  <line x1=\"11\" y1=\"1\" x2=\"131\" y2=\"1\" />\n",
       "  <line x1=\"11\" y1=\"1\" x2=\"131\" y2=\"1\" />\n",
       "  <line x1=\"11\" y1=\"1\" x2=\"131\" y2=\"1\" />\n",
       "  <line x1=\"12\" y1=\"2\" x2=\"132\" y2=\"2\" />\n",
       "  <line x1=\"12\" y1=\"2\" x2=\"132\" y2=\"2\" />\n",
       "  <line x1=\"12\" y1=\"2\" x2=\"132\" y2=\"2\" />\n",
       "  <line x1=\"12\" y1=\"2\" x2=\"132\" y2=\"2\" />\n",
       "  <line x1=\"12\" y1=\"2\" x2=\"132\" y2=\"2\" />\n",
       "  <line x1=\"12\" y1=\"2\" x2=\"132\" y2=\"2\" />\n",
       "  <line x1=\"12\" y1=\"2\" x2=\"132\" y2=\"2\" />\n",
       "  <line x1=\"12\" y1=\"2\" x2=\"132\" y2=\"2\" />\n",
       "  <line x1=\"13\" y1=\"3\" x2=\"133\" y2=\"3\" />\n",
       "  <line x1=\"13\" y1=\"3\" x2=\"133\" y2=\"3\" />\n",
       "  <line x1=\"13\" y1=\"3\" x2=\"133\" y2=\"3\" />\n",
       "  <line x1=\"13\" y1=\"3\" x2=\"133\" y2=\"3\" />\n",
       "  <line x1=\"13\" y1=\"3\" x2=\"133\" y2=\"3\" />\n",
       "  <line x1=\"13\" y1=\"3\" x2=\"133\" y2=\"3\" />\n",
       "  <line x1=\"13\" y1=\"3\" x2=\"133\" y2=\"3\" />\n",
       "  <line x1=\"13\" y1=\"3\" x2=\"133\" y2=\"3\" />\n",
       "  <line x1=\"14\" y1=\"4\" x2=\"134\" y2=\"4\" />\n",
       "  <line x1=\"14\" y1=\"4\" x2=\"134\" y2=\"4\" />\n",
       "  <line x1=\"14\" y1=\"4\" x2=\"134\" y2=\"4\" />\n",
       "  <line x1=\"14\" y1=\"4\" x2=\"134\" y2=\"4\" />\n",
       "  <line x1=\"14\" y1=\"4\" x2=\"134\" y2=\"4\" />\n",
       "  <line x1=\"14\" y1=\"4\" x2=\"134\" y2=\"4\" />\n",
       "  <line x1=\"14\" y1=\"4\" x2=\"134\" y2=\"4\" />\n",
       "  <line x1=\"14\" y1=\"4\" x2=\"134\" y2=\"4\" />\n",
       "  <line x1=\"15\" y1=\"5\" x2=\"135\" y2=\"5\" />\n",
       "  <line x1=\"15\" y1=\"5\" x2=\"135\" y2=\"5\" />\n",
       "  <line x1=\"15\" y1=\"5\" x2=\"135\" y2=\"5\" />\n",
       "  <line x1=\"15\" y1=\"5\" x2=\"135\" y2=\"5\" />\n",
       "  <line x1=\"15\" y1=\"5\" x2=\"135\" y2=\"5\" />\n",
       "  <line x1=\"15\" y1=\"5\" x2=\"135\" y2=\"5\" />\n",
       "  <line x1=\"15\" y1=\"5\" x2=\"135\" y2=\"5\" />\n",
       "  <line x1=\"15\" y1=\"5\" x2=\"135\" y2=\"5\" />\n",
       "  <line x1=\"16\" y1=\"6\" x2=\"136\" y2=\"6\" />\n",
       "  <line x1=\"16\" y1=\"6\" x2=\"136\" y2=\"6\" />\n",
       "  <line x1=\"16\" y1=\"6\" x2=\"136\" y2=\"6\" />\n",
       "  <line x1=\"16\" y1=\"6\" x2=\"136\" y2=\"6\" />\n",
       "  <line x1=\"16\" y1=\"6\" x2=\"136\" y2=\"6\" />\n",
       "  <line x1=\"16\" y1=\"6\" x2=\"136\" y2=\"6\" />\n",
       "  <line x1=\"16\" y1=\"6\" x2=\"136\" y2=\"6\" />\n",
       "  <line x1=\"17\" y1=\"7\" x2=\"137\" y2=\"7\" />\n",
       "  <line x1=\"17\" y1=\"7\" x2=\"137\" y2=\"7\" />\n",
       "  <line x1=\"17\" y1=\"7\" x2=\"137\" y2=\"7\" />\n",
       "  <line x1=\"17\" y1=\"7\" x2=\"137\" y2=\"7\" />\n",
       "  <line x1=\"17\" y1=\"7\" x2=\"137\" y2=\"7\" />\n",
       "  <line x1=\"17\" y1=\"7\" x2=\"137\" y2=\"7\" />\n",
       "  <line x1=\"17\" y1=\"7\" x2=\"137\" y2=\"7\" />\n",
       "  <line x1=\"17\" y1=\"7\" x2=\"137\" y2=\"7\" />\n",
       "  <line x1=\"18\" y1=\"8\" x2=\"138\" y2=\"8\" />\n",
       "  <line x1=\"18\" y1=\"8\" x2=\"138\" y2=\"8\" />\n",
       "  <line x1=\"18\" y1=\"8\" x2=\"138\" y2=\"8\" />\n",
       "  <line x1=\"18\" y1=\"8\" x2=\"138\" y2=\"8\" />\n",
       "  <line x1=\"18\" y1=\"8\" x2=\"138\" y2=\"8\" />\n",
       "  <line x1=\"18\" y1=\"8\" x2=\"138\" y2=\"8\" />\n",
       "  <line x1=\"18\" y1=\"8\" x2=\"138\" y2=\"8\" />\n",
       "  <line x1=\"18\" y1=\"8\" x2=\"138\" y2=\"8\" />\n",
       "  <line x1=\"19\" y1=\"9\" x2=\"139\" y2=\"9\" />\n",
       "  <line x1=\"19\" y1=\"9\" x2=\"139\" y2=\"9\" />\n",
       "  <line x1=\"19\" y1=\"9\" x2=\"139\" y2=\"9\" />\n",
       "  <line x1=\"19\" y1=\"9\" x2=\"139\" y2=\"9\" />\n",
       "  <line x1=\"19\" y1=\"9\" x2=\"139\" y2=\"9\" />\n",
       "  <line x1=\"19\" y1=\"9\" x2=\"139\" y2=\"9\" />\n",
       "  <line x1=\"19\" y1=\"9\" x2=\"139\" y2=\"9\" />\n",
       "  <line x1=\"19\" y1=\"9\" x2=\"139\" y2=\"9\" />\n",
       "  <line x1=\"20\" y1=\"10\" x2=\"140\" y2=\"10\" />\n",
       "  <line x1=\"20\" y1=\"10\" x2=\"140\" y2=\"10\" />\n",
       "  <line x1=\"20\" y1=\"10\" x2=\"140\" y2=\"10\" />\n",
       "  <line x1=\"20\" y1=\"10\" x2=\"140\" y2=\"10\" />\n",
       "  <line x1=\"20\" y1=\"10\" x2=\"140\" y2=\"10\" />\n",
       "  <line x1=\"20\" y1=\"10\" x2=\"140\" y2=\"10\" />\n",
       "  <line x1=\"20\" y1=\"10\" x2=\"140\" y2=\"10\" />\n",
       "  <line x1=\"20\" y1=\"10\" x2=\"140\" y2=\"10\" />\n",
       "  <line x1=\"21\" y1=\"11\" x2=\"141\" y2=\"11\" />\n",
       "  <line x1=\"21\" y1=\"11\" x2=\"141\" y2=\"11\" />\n",
       "  <line x1=\"21\" y1=\"11\" x2=\"141\" y2=\"11\" />\n",
       "  <line x1=\"21\" y1=\"11\" x2=\"141\" y2=\"11\" />\n",
       "  <line x1=\"21\" y1=\"11\" x2=\"141\" y2=\"11\" />\n",
       "  <line x1=\"21\" y1=\"11\" x2=\"141\" y2=\"11\" />\n",
       "  <line x1=\"21\" y1=\"11\" x2=\"141\" y2=\"11\" />\n",
       "  <line x1=\"21\" y1=\"11\" x2=\"141\" y2=\"11\" />\n",
       "  <line x1=\"22\" y1=\"12\" x2=\"142\" y2=\"12\" />\n",
       "  <line x1=\"22\" y1=\"12\" x2=\"142\" y2=\"12\" />\n",
       "  <line x1=\"22\" y1=\"12\" x2=\"142\" y2=\"12\" />\n",
       "  <line x1=\"22\" y1=\"12\" x2=\"142\" y2=\"12\" />\n",
       "  <line x1=\"22\" y1=\"12\" x2=\"142\" y2=\"12\" />\n",
       "  <line x1=\"22\" y1=\"12\" x2=\"142\" y2=\"12\" />\n",
       "  <line x1=\"22\" y1=\"12\" x2=\"142\" y2=\"12\" />\n",
       "  <line x1=\"23\" y1=\"13\" x2=\"143\" y2=\"13\" />\n",
       "  <line x1=\"23\" y1=\"13\" x2=\"143\" y2=\"13\" />\n",
       "  <line x1=\"23\" y1=\"13\" x2=\"143\" y2=\"13\" />\n",
       "  <line x1=\"23\" y1=\"13\" x2=\"143\" y2=\"13\" />\n",
       "  <line x1=\"23\" y1=\"13\" x2=\"143\" y2=\"13\" />\n",
       "  <line x1=\"23\" y1=\"13\" x2=\"143\" y2=\"13\" />\n",
       "  <line x1=\"23\" y1=\"13\" x2=\"143\" y2=\"13\" />\n",
       "  <line x1=\"23\" y1=\"13\" x2=\"143\" y2=\"13\" />\n",
       "  <line x1=\"24\" y1=\"14\" x2=\"144\" y2=\"14\" />\n",
       "  <line x1=\"24\" y1=\"14\" x2=\"144\" y2=\"14\" />\n",
       "  <line x1=\"24\" y1=\"14\" x2=\"144\" y2=\"14\" />\n",
       "  <line x1=\"24\" y1=\"14\" x2=\"144\" y2=\"14\" />\n",
       "  <line x1=\"24\" y1=\"14\" x2=\"144\" y2=\"14\" />\n",
       "  <line x1=\"24\" y1=\"14\" x2=\"144\" y2=\"14\" />\n",
       "  <line x1=\"24\" y1=\"14\" x2=\"144\" y2=\"14\" />\n",
       "  <line x1=\"24\" y1=\"14\" x2=\"144\" y2=\"14\" />\n",
       "  <line x1=\"25\" y1=\"15\" x2=\"145\" y2=\"15\" />\n",
       "  <line x1=\"25\" y1=\"15\" x2=\"145\" y2=\"15\" />\n",
       "  <line x1=\"25\" y1=\"15\" x2=\"145\" y2=\"15\" />\n",
       "  <line x1=\"25\" y1=\"15\" x2=\"145\" y2=\"15\" />\n",
       "  <line x1=\"25\" y1=\"15\" x2=\"145\" y2=\"15\" />\n",
       "  <line x1=\"25\" y1=\"15\" x2=\"145\" y2=\"15\" />\n",
       "  <line x1=\"25\" y1=\"15\" x2=\"145\" y2=\"15\" />\n",
       "  <line x1=\"25\" y1=\"15\" x2=\"145\" y2=\"15\" />\n",
       "  <line x1=\"26\" y1=\"16\" x2=\"146\" y2=\"16\" />\n",
       "  <line x1=\"26\" y1=\"16\" x2=\"146\" y2=\"16\" />\n",
       "  <line x1=\"26\" y1=\"16\" x2=\"146\" y2=\"16\" />\n",
       "  <line x1=\"26\" y1=\"16\" x2=\"146\" y2=\"16\" />\n",
       "  <line x1=\"26\" y1=\"16\" x2=\"146\" y2=\"16\" />\n",
       "  <line x1=\"26\" y1=\"16\" x2=\"146\" y2=\"16\" />\n",
       "  <line x1=\"26\" y1=\"16\" x2=\"146\" y2=\"16\" />\n",
       "  <line x1=\"26\" y1=\"16\" x2=\"146\" y2=\"16\" />\n",
       "  <line x1=\"27\" y1=\"17\" x2=\"147\" y2=\"17\" />\n",
       "  <line x1=\"27\" y1=\"17\" x2=\"147\" y2=\"17\" />\n",
       "  <line x1=\"27\" y1=\"17\" x2=\"147\" y2=\"17\" />\n",
       "  <line x1=\"27\" y1=\"17\" x2=\"147\" y2=\"17\" />\n",
       "  <line x1=\"27\" y1=\"17\" x2=\"147\" y2=\"17\" />\n",
       "  <line x1=\"27\" y1=\"17\" x2=\"147\" y2=\"17\" />\n",
       "  <line x1=\"27\" y1=\"17\" x2=\"147\" y2=\"17\" />\n",
       "  <line x1=\"27\" y1=\"17\" x2=\"147\" y2=\"17\" />\n",
       "  <line x1=\"28\" y1=\"18\" x2=\"148\" y2=\"18\" />\n",
       "  <line x1=\"28\" y1=\"18\" x2=\"148\" y2=\"18\" />\n",
       "  <line x1=\"28\" y1=\"18\" x2=\"148\" y2=\"18\" />\n",
       "  <line x1=\"28\" y1=\"18\" x2=\"148\" y2=\"18\" />\n",
       "  <line x1=\"28\" y1=\"18\" x2=\"148\" y2=\"18\" />\n",
       "  <line x1=\"28\" y1=\"18\" x2=\"148\" y2=\"18\" />\n",
       "  <line x1=\"28\" y1=\"18\" x2=\"148\" y2=\"18\" />\n",
       "  <line x1=\"29\" y1=\"19\" x2=\"149\" y2=\"19\" />\n",
       "  <line x1=\"29\" y1=\"19\" x2=\"149\" y2=\"19\" />\n",
       "  <line x1=\"29\" y1=\"19\" x2=\"149\" y2=\"19\" />\n",
       "  <line x1=\"29\" y1=\"19\" x2=\"149\" y2=\"19\" />\n",
       "  <line x1=\"29\" y1=\"19\" x2=\"149\" y2=\"19\" />\n",
       "  <line x1=\"29\" y1=\"19\" x2=\"149\" y2=\"19\" />\n",
       "  <line x1=\"29\" y1=\"19\" x2=\"149\" y2=\"19\" />\n",
       "  <line x1=\"29\" y1=\"19\" x2=\"149\" y2=\"19\" />\n",
       "  <line x1=\"30\" y1=\"20\" x2=\"150\" y2=\"20\" />\n",
       "  <line x1=\"30\" y1=\"20\" x2=\"150\" y2=\"20\" />\n",
       "  <line x1=\"30\" y1=\"20\" x2=\"150\" y2=\"20\" />\n",
       "  <line x1=\"30\" y1=\"20\" x2=\"150\" y2=\"20\" />\n",
       "  <line x1=\"30\" y1=\"20\" x2=\"150\" y2=\"20\" />\n",
       "  <line x1=\"30\" y1=\"20\" x2=\"150\" y2=\"20\" />\n",
       "  <line x1=\"30\" y1=\"20\" x2=\"150\" y2=\"20\" />\n",
       "  <line x1=\"30\" y1=\"20\" x2=\"150\" y2=\"20\" />\n",
       "  <line x1=\"31\" y1=\"21\" x2=\"151\" y2=\"21\" />\n",
       "  <line x1=\"31\" y1=\"21\" x2=\"151\" y2=\"21\" />\n",
       "  <line x1=\"31\" y1=\"21\" x2=\"151\" y2=\"21\" />\n",
       "  <line x1=\"31\" y1=\"21\" x2=\"151\" y2=\"21\" />\n",
       "  <line x1=\"31\" y1=\"21\" x2=\"151\" y2=\"21\" />\n",
       "  <line x1=\"31\" y1=\"21\" x2=\"151\" y2=\"21\" />\n",
       "  <line x1=\"31\" y1=\"21\" x2=\"151\" y2=\"21\" />\n",
       "  <line x1=\"31\" y1=\"21\" x2=\"151\" y2=\"21\" />\n",
       "  <line x1=\"32\" y1=\"22\" x2=\"152\" y2=\"22\" />\n",
       "  <line x1=\"32\" y1=\"22\" x2=\"152\" y2=\"22\" />\n",
       "  <line x1=\"32\" y1=\"22\" x2=\"152\" y2=\"22\" />\n",
       "  <line x1=\"32\" y1=\"22\" x2=\"152\" y2=\"22\" />\n",
       "  <line x1=\"32\" y1=\"22\" x2=\"152\" y2=\"22\" />\n",
       "  <line x1=\"32\" y1=\"22\" x2=\"152\" y2=\"22\" />\n",
       "  <line x1=\"32\" y1=\"22\" x2=\"152\" y2=\"22\" />\n",
       "  <line x1=\"32\" y1=\"22\" x2=\"152\" y2=\"22\" />\n",
       "  <line x1=\"33\" y1=\"23\" x2=\"153\" y2=\"23\" />\n",
       "  <line x1=\"33\" y1=\"23\" x2=\"153\" y2=\"23\" />\n",
       "  <line x1=\"33\" y1=\"23\" x2=\"153\" y2=\"23\" />\n",
       "  <line x1=\"33\" y1=\"23\" x2=\"153\" y2=\"23\" />\n",
       "  <line x1=\"33\" y1=\"23\" x2=\"153\" y2=\"23\" />\n",
       "  <line x1=\"33\" y1=\"23\" x2=\"153\" y2=\"23\" />\n",
       "  <line x1=\"33\" y1=\"23\" x2=\"153\" y2=\"23\" />\n",
       "  <line x1=\"33\" y1=\"23\" x2=\"153\" y2=\"23\" />\n",
       "  <line x1=\"34\" y1=\"24\" x2=\"154\" y2=\"24\" />\n",
       "  <line x1=\"34\" y1=\"24\" x2=\"154\" y2=\"24\" />\n",
       "  <line x1=\"34\" y1=\"24\" x2=\"154\" y2=\"24\" />\n",
       "  <line x1=\"34\" y1=\"24\" x2=\"154\" y2=\"24\" />\n",
       "  <line x1=\"34\" y1=\"24\" x2=\"154\" y2=\"24\" />\n",
       "  <line x1=\"34\" y1=\"24\" x2=\"154\" y2=\"24\" />\n",
       "  <line x1=\"34\" y1=\"24\" x2=\"154\" y2=\"24\" />\n",
       "  <line x1=\"35\" y1=\"25\" x2=\"155\" y2=\"25\" />\n",
       "  <line x1=\"35\" y1=\"25\" x2=\"155\" y2=\"25\" />\n",
       "  <line x1=\"35\" y1=\"25\" x2=\"155\" y2=\"25\" />\n",
       "  <line x1=\"35\" y1=\"25\" x2=\"155\" y2=\"25\" />\n",
       "  <line x1=\"35\" y1=\"25\" x2=\"155\" y2=\"25\" style=\"stroke-width:2\" />\n",
       "\n",
       "  <!-- Vertical lines -->\n",
       "  <line x1=\"10\" y1=\"0\" x2=\"35\" y2=\"25\" style=\"stroke-width:2\" />\n",
       "  <line x1=\"130\" y1=\"0\" x2=\"155\" y2=\"25\" style=\"stroke-width:2\" />\n",
       "\n",
       "  <!-- Colored Rectangle -->\n",
       "  <polygon points=\"10.000000,0.000000 130.000000,0.000000 155.528641,25.528641 35.528641,25.528641\" style=\"fill:#ECB172A0;stroke-width:0\"/>\n",
       "\n",
       "  <!-- Horizontal lines -->\n",
       "  <line x1=\"35\" y1=\"25\" x2=\"155\" y2=\"25\" style=\"stroke-width:2\" />\n",
       "  <line x1=\"35\" y1=\"115\" x2=\"155\" y2=\"115\" style=\"stroke-width:2\" />\n",
       "\n",
       "  <!-- Vertical lines -->\n",
       "  <line x1=\"35\" y1=\"25\" x2=\"35\" y2=\"115\" style=\"stroke-width:2\" />\n",
       "  <line x1=\"155\" y1=\"25\" x2=\"155\" y2=\"115\" style=\"stroke-width:2\" />\n",
       "\n",
       "  <!-- Colored Rectangle -->\n",
       "  <polygon points=\"35.528641,25.528641 155.528641,25.528641 155.528641,115.183813 35.528641,115.183813\" style=\"fill:#ECB172A0;stroke-width:0\"/>\n",
       "\n",
       "  <!-- Text -->\n",
       "  <text x=\"95.528641\" y=\"135.183813\" font-size=\"1.0rem\" font-weight=\"100\" text-anchor=\"middle\" >696</text>\n",
       "  <text x=\"175.528641\" y=\"70.356227\" font-size=\"1.0rem\" font-weight=\"100\" text-anchor=\"middle\" transform=\"rotate(-90,175.528641,70.356227)\">520</text>\n",
       "  <text x=\"12.764320\" y=\"122.419493\" font-size=\"1.0rem\" font-weight=\"100\" text-anchor=\"middle\" transform=\"rotate(45,12.764320,122.419493)\">200</text>\n",
       "</svg>\n",
       "</td>\n",
       "</tr>\n",
       "</table>"
      ],
      "text/plain": [
       "dask.array<concatenate, shape=(200, 520, 696), dtype=uint16, chunksize=(1, 520, 696), chunktype=numpy.ndarray>"
      ]
     },
     "execution_count": 2,
     "metadata": {},
     "output_type": "execute_result"
    }
   ],
   "source": [
    "from dask_image.imread import imread\n",
    "\n",
    "images = imread('data/BBBC039/images/*.tif')\n",
    "# images_on_gpu = imread('data/BBBC039/images/*.tif', arraytype=\"cupy\")\n",
    "\n",
    "images\n"
   ]
  },
  {
   "cell_type": "markdown",
   "metadata": {
    "slideshow": {
     "slide_type": "slide"
    }
   },
   "source": [
    "# 2. Filtering images\n",
    "Denoising images with a small blur can improve segmentation later on."
   ]
  },
  {
   "cell_type": "code",
   "execution_count": 3,
   "metadata": {
    "slideshow": {
     "slide_type": "fragment"
    }
   },
   "outputs": [],
   "source": [
    "from dask_image import ndfilters\n",
    "\n",
    "smoothed = ndfilters.gaussian_filter(images, sigma=[0, 1, 1]) \n"
   ]
  },
  {
   "cell_type": "markdown",
   "metadata": {
    "slideshow": {
     "slide_type": "slide"
    }
   },
   "source": [
    "# 3. Segmenting objects\n",
    "Pixels below the threshold value are background."
   ]
  },
  {
   "cell_type": "code",
   "execution_count": 4,
   "metadata": {
    "slideshow": {
     "slide_type": "fragment"
    }
   },
   "outputs": [],
   "source": [
    "absolute_threshold = smoothed > 160"
   ]
  },
  {
   "cell_type": "code",
   "execution_count": 5,
   "metadata": {
    "slideshow": {
     "slide_type": "fragment"
    }
   },
   "outputs": [
    {
     "data": {
      "text/plain": [
       "<Image layer 'images' at 0x7fb2ec13a910>"
      ]
     },
     "execution_count": 5,
     "metadata": {},
     "output_type": "execute_result"
    }
   ],
   "source": [
    "# Let's have a look at the images\n",
    "import napari\n",
    "\n",
    "viewer = napari.Viewer() \n",
    "viewer.add_image(absolute_threshold)\n",
    "viewer.add_image(images, contrast_limits=[0, 2000])"
   ]
  },
  {
   "cell_type": "markdown",
   "metadata": {
    "slideshow": {
     "slide_type": "subslide"
    }
   },
   "source": [
    "# 3. Segmenting objects (continued)\n",
    "\n",
    "A better segmentation using local thresholding.\n"
   ]
  },
  {
   "cell_type": "code",
   "execution_count": 6,
   "metadata": {
    "slideshow": {
     "slide_type": "fragment"
    }
   },
   "outputs": [],
   "source": [
    "thresh = ndfilters.threshold_local(smoothed, images.chunksize)\n",
    "threshold_images = smoothed > thresh"
   ]
  },
  {
   "cell_type": "code",
   "execution_count": 7,
   "metadata": {
    "slideshow": {
     "slide_type": "fragment"
    }
   },
   "outputs": [
    {
     "data": {
      "text/plain": [
       "<Image layer 'threshold_images' at 0x7fb2ede7b090>"
      ]
     },
     "execution_count": 7,
     "metadata": {},
     "output_type": "execute_result"
    }
   ],
   "source": [
    "# Let's take a look at the images\n",
    "viewer.add_image(threshold_images)"
   ]
  },
  {
   "cell_type": "markdown",
   "metadata": {
    "slideshow": {
     "slide_type": "slide"
    }
   },
   "source": [
    "# 4. Morphological operations\n",
    "\n",
    "These are operations on the shape of a binary image.\n",
    "\n",
    "https://docs.opencv.org/3.0-beta/doc/py_tutorials/py_imgproc/py_morphological_ops/py_morphological_ops.html\n",
    "\n"
   ]
  },
  {
   "cell_type": "markdown",
   "metadata": {
    "slideshow": {
     "slide_type": "subslide"
    }
   },
   "source": [
    "## Erosion\n",
    "\n",
    "<img src=\"imgs/erosion.png#thumbnail\" alt=\"Erosion, binary morphological operation \n",
    "https://docs.opencv.org/3.0-beta/doc/py_tutorials/py_imgproc/py_morphological_ops/py_morphological_ops.html\n",
    "\" width=\"500\"/>"
   ]
  },
  {
   "cell_type": "markdown",
   "metadata": {
    "slideshow": {
     "slide_type": "subslide"
    }
   },
   "source": [
    "## Dilation\n",
    "\n",
    "<img src=\"imgs/dilation.png#thumbnail\" alt=\"Dilation, binary morphological operation \n",
    "https://docs.opencv.org/3.0-beta/doc/py_tutorials/py_imgproc/py_morphological_ops/py_morphological_ops.html\n",
    "\" width=\"500\"/>\n"
   ]
  },
  {
   "cell_type": "markdown",
   "metadata": {
    "slideshow": {
     "slide_type": "subslide"
    }
   },
   "source": [
    "A morphological opening operation is an erosion, followed by a dilation.\n",
    "\n",
    "<img src=\"imgs/opening.png#thumbnail\" alt=\"Opening, binary morphological operation \n",
    "https://docs.opencv.org/3.0-beta/doc/py_tutorials/py_imgproc/py_morphological_ops/py_morphological_ops.html\n",
    "\" width=\"500\"/>\n"
   ]
  },
  {
   "cell_type": "code",
   "execution_count": 8,
   "metadata": {
    "slideshow": {
     "slide_type": "subslide"
    }
   },
   "outputs": [],
   "source": [
    "from dask_image import ndmorph\n",
    "import numpy as np\n",
    "\n",
    "structuring_element = np.array([\n",
    "    [[0, 0, 0], [0, 0, 0], [0, 0, 0]],\n",
    "    [[0, 1, 0], [1, 1, 1], [0, 1, 0]],\n",
    "    [[0, 0, 0], [0, 0, 0], [0, 0, 0]]])\n",
    "binary_images = ndmorph.binary_opening(threshold_images, structure=structuring_element) \n"
   ]
  },
  {
   "cell_type": "markdown",
   "metadata": {
    "slideshow": {
     "slide_type": "slide"
    }
   },
   "source": [
    "# 5. Measuring objects\n",
    "Each image has many individual nuclei, so for the sake of time we'll measure a small subset of the data."
   ]
  },
  {
   "cell_type": "code",
   "execution_count": 9,
   "metadata": {
    "slideshow": {
     "slide_type": "fragment"
    }
   },
   "outputs": [
    {
     "name": "stdout",
     "output_type": "stream",
     "text": [
      "Number of nuclei: 271\n"
     ]
    }
   ],
   "source": [
    "from dask_image import ndmeasure\n",
    "\n",
    "# Create labelled mask\n",
    "label_images, num_features = ndmeasure.label(binary_images[:3], structuring_element)\n",
    "index = np.arange(num_features - 1) + 1  # [1, 2, 3, ...num_features]\n",
    "print(\"Number of nuclei:\", num_features.compute())\n"
   ]
  },
  {
   "cell_type": "code",
   "execution_count": 10,
   "metadata": {
    "slideshow": {
     "slide_type": "subslide"
    }
   },
   "outputs": [],
   "source": [
    "# Let's look at the labels\n",
    "viewer.add_labels(label_images)\n",
    "viewer.dims.set_point(0, 0)"
   ]
  },
  {
   "cell_type": "markdown",
   "metadata": {
    "slideshow": {
     "slide_type": "subslide"
    }
   },
   "source": [
    "# Measuring objects (continued)"
   ]
  },
  {
   "cell_type": "code",
   "execution_count": 11,
   "metadata": {
    "slideshow": {
     "slide_type": "fragment"
    }
   },
   "outputs": [],
   "source": [
    "# Measure objects in images\n",
    "area = ndmeasure.area(images[:3], label_images, index)\n",
    "mean_intensity = ndmeasure.mean(images[:3], label_images, index)  "
   ]
  },
  {
   "cell_type": "code",
   "execution_count": 12,
   "metadata": {
    "slideshow": {
     "slide_type": "subslide"
    }
   },
   "outputs": [
    {
     "data": {
      "image/png": "[encoded data removed]",
      "text/plain": [
       "<Figure size 432x288 with 1 Axes>"
      ]
     },
     "metadata": {
      "needs_background": "light"
     },
     "output_type": "display_data"
    }
   ],
   "source": [
    "# Run computation and plot results\n",
    "import matplotlib.pyplot as plt\n",
    "\n",
    "plt.scatter(area, mean_intensity, alpha=0.5)\n",
    "plt.gca().update(dict(title=\"Area vs mean intensity\", xlabel='Area (pixels)', ylabel='Mean intensity'))\n",
    "plt.show()\n"
   ]
  },
  {
   "cell_type": "markdown",
   "metadata": {
    "slideshow": {
     "slide_type": "slide"
    }
   },
   "source": [
    "# The full pipeline\n",
    "\n",
    "```python\n",
    "import numpy as np\n",
    "from dask_image.imread import imread\n",
    "from dask_image import ndfilters, ndmorph, ndmeasure\n",
    "\n",
    "images = imread('data/BBBC039/images/*.tif')\n",
    "smoothed = ndfilters.gaussian_filter(images, sigma=[0, 1, 1])\n",
    "thresh = ndfilters.threshold_local(smoothed, blocksize=images.chunksize)\n",
    "threshold_images = smoothed > thresh\n",
    "structuring_element = np.array([[[0, 0, 0], [0, 0, 0], [0, 0, 0]], [[0, 1, 0], [1, 1, 1], [0, 1, 0]], [[0, 0, 0], [0, 0, 0], [0, 0, 0]]])\n",
    "binary_images = ndmorph.binary_closing(threshold_image, structure=structuring_element)\n",
    "label_images, num_features = ndmeasure.label(binary_image)\n",
    "index = np.arange(num_features)\n",
    "area = ndmeasure.area(images, label_images, index)\n",
    "mean_intensity = ndmeasure.mean(images, label_images, index)\n",
    "```"
   ]
  },
  {
   "cell_type": "markdown",
   "metadata": {
    "hideOutput": true,
    "slideshow": {
     "slide_type": "slide"
    }
   },
   "source": [
    "# Custom functions\n",
    "\n",
    "What if you want to do something that isn't included?\n",
    "\n",
    "* scikit-image [apply_parallel()](https://scikit-image.org/docs/dev/api/skimage.util.html#skimage.util.apply_parallel)\n",
    "* dask [map_overlap](https://docs.dask.org/en/latest/array-overlap.html?highlight=map_overlap#dask.array.map_overlap) / [map_blocks](https://docs.dask.org/en/latest/array-api.html?highlight=map_blocks#dask.array.map_blocks)\n",
    "* dask [delayed](https://docs.dask.org/en/latest/delayed.html) "
   ]
  },
  {
   "cell_type": "markdown",
   "metadata": {
    "slideshow": {
     "slide_type": "slide"
    }
   },
   "source": [
    "# Scaling up computation\n",
    "\n",
    "Use [dask-distributed](https://distributed.dask.org/en/latest/) to scale up from a laptop onto a supercomputing cluster."
   ]
  },
  {
   "cell_type": "markdown",
   "metadata": {
    "slideshow": {
     "slide_type": "fragment"
    }
   },
   "source": [
    "```python\n",
    "from dask.distributed import Client\n",
    "\n",
    "# Setup a local cluster\n",
    "# By default this sets up 1 worker per core\n",
    "client = Client()\n",
    "client.cluster\n",
    "\n",
    "```"
   ]
  },
  {
   "cell_type": "markdown",
   "metadata": {
    "slideshow": {
     "slide_type": "slide"
    }
   },
   "source": [
    "# dask-image\n",
    "\n",
    "* Install: `conda` or `pip install dask-image`\n",
    "* Documentation: https://dask-image.readthedocs.io\n",
    "* GitHub: https://github.com/dask/dask-image/"
   ]
  },
  {
   "cell_type": "markdown",
   "metadata": {
    "slideshow": {
     "slide_type": "slide"
    }
   },
   "source": [
    "<center>\n",
    "<img src=\"imgs/dask-icon.svg#thumbnail\" alt=\"dask logo\" width=\"300\"/>\n",
    "</center>\n",
    " "
   ]
  },
  {
   "cell_type": "markdown",
   "metadata": {
    "slideshow": {
     "slide_type": "slide"
    }
   },
   "source": [
    "# Bonus content\n",
    "## Example using arrays on GPU"
   ]
  },
  {
   "cell_type": "markdown",
   "metadata": {
    "slideshow": {
     "slide_type": "subslide"
    }
   },
   "source": [
    "```python\n",
    "# CPU example\n",
    "import numpy as np\n",
    "import dask.array as da\n",
    "from dask_image.ndfilters import convolve\n",
    "\n",
    "s = (10, 10)\n",
    "a = da.from_array(np.arange(int(np.prod(s))).reshape(s), chunks=5)\n",
    "w = np.ones(a.ndim * (3,), dtype=np.float32)\n",
    "result = convolve(a, w)\n",
    "result.compute()\n",
    "```"
   ]
  },
  {
   "cell_type": "markdown",
   "metadata": {
    "slideshow": {
     "slide_type": "subslide"
    }
   },
   "source": [
    "```python\n",
    "# Same example moved to the GPU\n",
    "import cupy  # <- import cupy instead of numpy (version >=7.7.0)\n",
    "import dask.array as da\n",
    "from dask_image.ndfilters import convolve\n",
    "\n",
    "s = (10, 10)\n",
    "a = da.from_array(cupy.arange(int(cupy.prod(cupy.array(s)))).reshape(s), chunks=5)  # <- cupy dask array\n",
    "w = cupy.ones(a.ndim * (3,))  # <- cupy dask array\n",
    "result = convolve(a, w)\n",
    "result.compute()\n",
    "```"
   ]
  },
  {
   "cell_type": "code",
   "execution_count": null,
   "metadata": {},
   "outputs": [],
   "source": []
  }
 ],
 "metadata": {
  "celltoolbar": "Slideshow",
  "kernelspec": {
   "display_name": "Python 3",
   "language": "python",
   "name": "python3"
  },
  "language_info": {
   "codemirror_mode": {
    "name": "ipython",
    "version": 3
   },
   "file_extension": ".py",
   "mimetype": "text/x-python",
   "name": "python",
   "nbconvert_exporter": "python",
   "pygments_lexer": "ipython3",
   "version": "3.7.7"
  }
 },
 "nbformat": 4,
 "nbformat_minor": 4
}
